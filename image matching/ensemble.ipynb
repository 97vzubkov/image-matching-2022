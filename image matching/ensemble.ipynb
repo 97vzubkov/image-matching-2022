{
 "cells": [
  {
   "cell_type": "code",
   "execution_count": 1,
   "id": "bf3fa70c",
   "metadata": {
    "_cell_guid": "b1076dfc-b9ad-4769-8c92-a6c4dae69d19",
    "_uuid": "8f2839f25d086af736a60e9eeb907d3b93b6e0e5",
    "execution": {
     "iopub.execute_input": "2022-05-01T08:57:26.312311Z",
     "iopub.status.busy": "2022-05-01T08:57:26.311461Z",
     "iopub.status.idle": "2022-05-01T08:57:27.827517Z",
     "shell.execute_reply": "2022-05-01T08:57:27.826907Z",
     "shell.execute_reply.started": "2022-05-01T08:54:42.278686Z"
    },
    "papermill": {
     "duration": 1.55337,
     "end_time": "2022-05-01T08:57:27.827666",
     "exception": false,
     "start_time": "2022-05-01T08:57:26.274296",
     "status": "completed"
    },
    "tags": []
   },
   "outputs": [],
   "source": [
    "import os\n",
    "import csv\n",
    "import random\n",
    "from glob import glob\n",
    "from tqdm import tqdm\n",
    "from collections import namedtuple\n",
    "\n",
    "import cv2\n",
    "import numpy as np\n",
    "import pandas as pd\n",
    "import matplotlib\n",
    "import matplotlib.pyplot as plt\n",
    "import matplotlib.cm as cm\n",
    "import torch\n",
    "\n",
    "import sys\n",
    "sys.path.append(\"/kaggle/input/super-glue-pretrained-network\")\n",
    "from models.matching import Matching\n",
    "from models.utils import (compute_pose_error, compute_epipolar_error,\n",
    "                          estimate_pose, make_matching_plot,\n",
    "                          error_colormap, AverageTimer, pose_auc, read_image,\n",
    "                          rotate_intrinsics, rotate_pose_inplane,\n",
    "                          scale_intrinsics)\n",
    "\n",
    "dry_run = False"
   ]
  },
  {
   "cell_type": "code",
   "execution_count": 2,
   "id": "9f36d5df",
   "metadata": {
    "execution": {
     "iopub.execute_input": "2022-05-01T08:57:27.882434Z",
     "iopub.status.busy": "2022-05-01T08:57:27.881865Z",
     "iopub.status.idle": "2022-05-01T08:57:27.901342Z",
     "shell.execute_reply": "2022-05-01T08:57:27.900875Z",
     "shell.execute_reply.started": "2022-05-01T08:54:42.809907Z"
    },
    "papermill": {
     "duration": 0.048927,
     "end_time": "2022-05-01T08:57:27.901463",
     "exception": false,
     "start_time": "2022-05-01T08:57:27.852536",
     "status": "completed"
    },
    "tags": []
   },
   "outputs": [
    {
     "data": {
      "text/html": [
       "<div>\n",
       "<style scoped>\n",
       "    .dataframe tbody tr th:only-of-type {\n",
       "        vertical-align: middle;\n",
       "    }\n",
       "\n",
       "    .dataframe tbody tr th {\n",
       "        vertical-align: top;\n",
       "    }\n",
       "\n",
       "    .dataframe thead th {\n",
       "        text-align: right;\n",
       "    }\n",
       "</style>\n",
       "<table border=\"1\" class=\"dataframe\">\n",
       "  <thead>\n",
       "    <tr style=\"text-align: right;\">\n",
       "      <th></th>\n",
       "      <th>sample_id</th>\n",
       "      <th>batch_id</th>\n",
       "      <th>image_1_id</th>\n",
       "      <th>image_2_id</th>\n",
       "    </tr>\n",
       "  </thead>\n",
       "  <tbody>\n",
       "    <tr>\n",
       "      <th>0</th>\n",
       "      <td>googleurban;1cf87530;a5a9975574c94ff9a285f58c3...</td>\n",
       "      <td>1cf87530</td>\n",
       "      <td>a5a9975574c94ff9a285f58c39b53d2c</td>\n",
       "      <td>0143f47ee9e54243a1b8454f3e91621a</td>\n",
       "    </tr>\n",
       "    <tr>\n",
       "      <th>1</th>\n",
       "      <td>googleurban;6ceaefff;39563e58b2b7411da3f06427c...</td>\n",
       "      <td>6ceaefff</td>\n",
       "      <td>39563e58b2b7411da3f06427c9ee4239</td>\n",
       "      <td>0303b05ca0cb46959eac430e4b2472ca</td>\n",
       "    </tr>\n",
       "    <tr>\n",
       "      <th>2</th>\n",
       "      <td>googleurban;d91db836;81dd07fb7b9a4e01996cee637...</td>\n",
       "      <td>d91db836</td>\n",
       "      <td>81dd07fb7b9a4e01996cee637f91ca1a</td>\n",
       "      <td>0006b1337a0347f49b4e651c035dfa0e</td>\n",
       "    </tr>\n",
       "  </tbody>\n",
       "</table>\n",
       "</div>"
      ],
      "text/plain": [
       "                                           sample_id  batch_id  \\\n",
       "0  googleurban;1cf87530;a5a9975574c94ff9a285f58c3...  1cf87530   \n",
       "1  googleurban;6ceaefff;39563e58b2b7411da3f06427c...  6ceaefff   \n",
       "2  googleurban;d91db836;81dd07fb7b9a4e01996cee637...  d91db836   \n",
       "\n",
       "                         image_1_id                        image_2_id  \n",
       "0  a5a9975574c94ff9a285f58c39b53d2c  0143f47ee9e54243a1b8454f3e91621a  \n",
       "1  39563e58b2b7411da3f06427c9ee4239  0303b05ca0cb46959eac430e4b2472ca  \n",
       "2  81dd07fb7b9a4e01996cee637f91ca1a  0006b1337a0347f49b4e651c035dfa0e  "
      ]
     },
     "execution_count": 2,
     "metadata": {},
     "output_type": "execute_result"
    }
   ],
   "source": [
    "src = '/kaggle/input/image-matching-challenge-2022/'\n",
    "\n",
    "test_samples = []\n",
    "with open(f'{src}/test.csv') as f:\n",
    "    reader = csv.reader(f, delimiter=',')\n",
    "    for i, row in enumerate(reader):\n",
    "        # Skip header.\n",
    "        if i == 0:\n",
    "            continue\n",
    "        test_samples += [row]\n",
    "\n",
    "if dry_run:\n",
    "    for sample in test_samples:\n",
    "        print(sample)\n",
    "        \n",
    "test_samples_df = pd.DataFrame(test_samples, columns=[\"sample_id\", \"batch_id\", \"image_1_id\", \"image_2_id\"])\n",
    "test_samples_df"
   ]
  },
  {
   "cell_type": "markdown",
   "id": "b47eabd4",
   "metadata": {
    "papermill": {
     "duration": 0.024153,
     "end_time": "2022-05-01T08:57:27.950378",
     "exception": false,
     "start_time": "2022-05-01T08:57:27.926225",
     "status": "completed"
    },
    "tags": []
   },
   "source": [
    "# SuperPoint/SuperGlue Inference"
   ]
  },
  {
   "cell_type": "code",
   "execution_count": 3,
   "id": "62688d24",
   "metadata": {
    "execution": {
     "iopub.execute_input": "2022-05-01T08:57:28.056381Z",
     "iopub.status.busy": "2022-05-01T08:57:28.054145Z",
     "iopub.status.idle": "2022-05-01T08:57:31.888162Z",
     "shell.execute_reply": "2022-05-01T08:57:31.888839Z",
     "shell.execute_reply.started": "2022-05-01T08:54:42.831548Z"
    },
    "papermill": {
     "duration": 3.914371,
     "end_time": "2022-05-01T08:57:31.889039",
     "exception": false,
     "start_time": "2022-05-01T08:57:27.974668",
     "status": "completed"
    },
    "tags": []
   },
   "outputs": [
    {
     "name": "stdout",
     "output_type": "stream",
     "text": [
      "Loaded SuperPoint model\n",
      "Loaded SuperGlue model (\"outdoor\" weights)\n"
     ]
    }
   ],
   "source": [
    "device = \"cuda\" if torch.cuda.is_available() else \"cpu\"\n",
    "resize = [-1, ]\n",
    "resize_float = True\n",
    "\n",
    "config = {\n",
    "    \"superpoint\": {\n",
    "        \"nms_radius\": 4,\n",
    "        \"keypoint_threshold\": 0.005,\n",
    "        \"max_keypoints\": 1024\n",
    "    },\n",
    "    \"superglue\": {\n",
    "        \"weights\": \"outdoor\",\n",
    "        \"sinkhorn_iterations\": 20,\n",
    "        \"match_threshold\": 0.2,\n",
    "    }\n",
    "}\n",
    "matching = Matching(config).eval().to(device)"
   ]
  },
  {
   "cell_type": "code",
   "execution_count": 4,
   "id": "02d761cc",
   "metadata": {
    "execution": {
     "iopub.execute_input": "2022-05-01T08:57:31.979952Z",
     "iopub.status.busy": "2022-05-01T08:57:31.979118Z",
     "iopub.status.idle": "2022-05-01T08:57:37.943738Z",
     "shell.execute_reply": "2022-05-01T08:57:37.944319Z",
     "shell.execute_reply.started": "2022-05-01T08:54:44.762100Z"
    },
    "papermill": {
     "duration": 6.014337,
     "end_time": "2022-05-01T08:57:37.944510",
     "exception": false,
     "start_time": "2022-05-01T08:57:31.930173",
     "status": "completed"
    },
    "tags": []
   },
   "outputs": [
    {
     "name": "stderr",
     "output_type": "stream",
     "text": [
      "3it [00:05,  1.98s/it]\n"
     ]
    }
   ],
   "source": [
    "F_dict = {}\n",
    "for i, row in tqdm(enumerate(test_samples)):\n",
    "    sample_id, batch_id, image_1_id, image_2_id = row\n",
    "    \n",
    "    image_fpath_1 = f'{src}/test_images/{batch_id}/{image_1_id}.png'\n",
    "    image_fpath_2 = f'{src}/test_images/{batch_id}/{image_2_id}.png'\n",
    "    \n",
    "    image_1, inp_1, scales_1 = read_image(image_fpath_1, device, resize, 0, resize_float)\n",
    "    image_2, inp_2, scales_2 = read_image(image_fpath_2, device, resize, 0, resize_float)\n",
    "    \n",
    "    pred = matching({\"image0\": inp_1, \"image1\": inp_2})\n",
    "    pred = {k: v[0].detach().cpu().numpy() for k, v in pred.items()}\n",
    "    kpts1, kpts2 = pred[\"keypoints0\"], pred[\"keypoints1\"]\n",
    "    matches, conf = pred[\"matches0\"], pred[\"matching_scores0\"]\n",
    "\n",
    "    valid = matches > -1\n",
    "    mkpts1 = kpts1[valid]\n",
    "    mkpts2 = kpts2[matches[valid]]\n",
    "    mconf = conf[valid]\n",
    "    \n",
    "    if len(mkpts1) > 8:\n",
    "        F, inlier_mask = cv2.findFundamentalMat(mkpts1, mkpts2, cv2.USAC_MAGSAC, ransacReprojThreshold=0.25, confidence=0.99999, maxIters=10000)\n",
    "        F_dict[sample_id] = F\n",
    "    else:\n",
    "        F_dict[sample_id] = np.zeros((3, 3))"
   ]
  },
  {
   "cell_type": "code",
   "execution_count": 5,
   "id": "6078f6e2",
   "metadata": {
    "execution": {
     "iopub.execute_input": "2022-05-01T08:57:38.006659Z",
     "iopub.status.busy": "2022-05-01T08:57:38.006013Z",
     "iopub.status.idle": "2022-05-01T08:57:38.008798Z",
     "shell.execute_reply": "2022-05-01T08:57:38.009216Z",
     "shell.execute_reply.started": "2022-05-01T08:54:46.135855Z"
    },
    "papermill": {
     "duration": 0.036602,
     "end_time": "2022-05-01T08:57:38.009360",
     "exception": false,
     "start_time": "2022-05-01T08:57:37.972758",
     "status": "completed"
    },
    "tags": []
   },
   "outputs": [
    {
     "data": {
      "text/plain": [
       "[array([[ 8.49077204e-08,  1.59295878e-06, -7.60297330e-04],\n",
       "        [ 2.15347610e-06,  3.73637850e-08,  9.14656017e-03],\n",
       "        [-1.53669112e-03, -1.00098670e-02,  5.04602901e-01]]),\n",
       " array([[-1.61503391e-06,  1.45412113e-05, -8.66035536e-03],\n",
       "        [-1.66341233e-05,  4.26469564e-06,  1.23128804e-02],\n",
       "        [ 7.46974807e-03, -1.59685012e-02,  4.27513386e+00]]),\n",
       " array([[-9.19709363e-07, -1.39336628e-05,  9.37422553e-03],\n",
       "        [ 1.10619598e-05,  2.65573084e-05, -6.30746753e-03],\n",
       "        [-6.37339619e-03, -1.83202112e-02,  5.91271213e+00]])]"
      ]
     },
     "execution_count": 5,
     "metadata": {},
     "output_type": "execute_result"
    }
   ],
   "source": [
    "sg_matrix = list(F_dict.values()) #[ 8.49077204e-08,  1.59295878e-06, -7.60297330e-04]\n",
    "sg_matrix"
   ]
  },
  {
   "cell_type": "code",
   "execution_count": 6,
   "id": "f9d832d9",
   "metadata": {
    "execution": {
     "iopub.execute_input": "2022-05-01T08:57:38.073429Z",
     "iopub.status.busy": "2022-05-01T08:57:38.071762Z",
     "iopub.status.idle": "2022-05-01T08:57:38.073985Z",
     "shell.execute_reply": "2022-05-01T08:57:38.074427Z",
     "shell.execute_reply.started": "2022-05-01T08:54:46.144833Z"
    },
    "papermill": {
     "duration": 0.035681,
     "end_time": "2022-05-01T08:57:38.074565",
     "exception": false,
     "start_time": "2022-05-01T08:57:38.038884",
     "status": "completed"
    },
    "tags": []
   },
   "outputs": [],
   "source": [
    "def FlattenMatrix(M, num_digits=8):\n",
    "    '''Convenience function to write CSV files.'''\n",
    "    return ' '.join([f'{v:.{num_digits}e}' for v in M.flatten()])\n",
    "\n",
    "#with open('sp_sg.csv', 'w') as f:\n",
    "    #f.write('sample_id,fundamental_matrix\\n')\n",
    "    #for sample_id, F in F_dict.items():\n",
    "        #f.write(f'{sample_id},{FlattenMatrix(F)}\\n')"
   ]
  },
  {
   "cell_type": "markdown",
   "id": "9b88b249",
   "metadata": {
    "papermill": {
     "duration": 0.027492,
     "end_time": "2022-05-01T08:57:38.129708",
     "exception": false,
     "start_time": "2022-05-01T08:57:38.102216",
     "status": "completed"
    },
    "tags": []
   },
   "source": [
    "# DKM Inference"
   ]
  },
  {
   "cell_type": "code",
   "execution_count": 7,
   "id": "7fb7ec64",
   "metadata": {
    "execution": {
     "iopub.execute_input": "2022-05-01T08:57:38.191462Z",
     "iopub.status.busy": "2022-05-01T08:57:38.190709Z",
     "iopub.status.idle": "2022-05-01T08:57:38.193194Z",
     "shell.execute_reply": "2022-05-01T08:57:38.192779Z",
     "shell.execute_reply.started": "2022-05-01T08:54:46.154773Z"
    },
    "papermill": {
     "duration": 0.03526,
     "end_time": "2022-05-01T08:57:38.193307",
     "exception": false,
     "start_time": "2022-05-01T08:57:38.158047",
     "status": "completed"
    },
    "tags": []
   },
   "outputs": [],
   "source": [
    "import numpy as np # linear algebra\n",
    "import pandas as pd # data processing, CSV file I/O (e.g. pd.read_csv)\n",
    "import sys, os, csv\n",
    "from PIL import Image\n",
    "import cv2, gc\n",
    "import matplotlib.pyplot as plt\n",
    "import torch\n",
    "sys.path.append('/kaggle/input/imc2022-dependencies/DKM/')\n",
    "\n",
    "dry_run = False"
   ]
  },
  {
   "cell_type": "code",
   "execution_count": 8,
   "id": "b647915a",
   "metadata": {
    "execution": {
     "iopub.execute_input": "2022-05-01T08:57:38.252740Z",
     "iopub.status.busy": "2022-05-01T08:57:38.252121Z",
     "iopub.status.idle": "2022-05-01T08:57:38.254735Z",
     "shell.execute_reply": "2022-05-01T08:57:38.255128Z",
     "shell.execute_reply.started": "2022-05-01T08:54:46.164424Z"
    },
    "papermill": {
     "duration": 0.034768,
     "end_time": "2022-05-01T08:57:38.255267",
     "exception": false,
     "start_time": "2022-05-01T08:57:38.220499",
     "status": "completed"
    },
    "tags": []
   },
   "outputs": [
    {
     "data": {
      "text/plain": [
       "'/kaggle/working'"
      ]
     },
     "execution_count": 8,
     "metadata": {},
     "output_type": "execute_result"
    }
   ],
   "source": [
    "os.getcwd()"
   ]
  },
  {
   "cell_type": "code",
   "execution_count": 9,
   "id": "7ff9a56a",
   "metadata": {
    "execution": {
     "iopub.execute_input": "2022-05-01T08:57:38.323067Z",
     "iopub.status.busy": "2022-05-01T08:57:38.322265Z",
     "iopub.status.idle": "2022-05-01T08:58:22.902717Z",
     "shell.execute_reply": "2022-05-01T08:58:22.902234Z",
     "shell.execute_reply.started": "2022-05-01T08:54:46.174557Z"
    },
    "papermill": {
     "duration": 44.619829,
     "end_time": "2022-05-01T08:58:22.902851",
     "exception": false,
     "start_time": "2022-05-01T08:57:38.283022",
     "status": "completed"
    },
    "tags": []
   },
   "outputs": [
    {
     "name": "stdout",
     "output_type": "stream",
     "text": [
      "Looking in links: /kaggle/input/imc2022-dependencies/wheels\r\n",
      "Processing /kaggle/input/imc2022-dependencies/wheels/einops-0.4.1-py3-none-any.whl\r\n",
      "Installing collected packages: einops\r\n",
      "Successfully installed einops-0.4.1\r\n",
      "\u001b[33mWARNING: Running pip as the 'root' user can result in broken permissions and conflicting behaviour with the system package manager. It is recommended to use a virtual environment instead: https://pip.pypa.io/warnings/venv\u001b[0m\r\n",
      "Looking in links: /kaggle/input/imc2022-dependencies/wheels\r\n",
      "Obtaining file:///kaggle/working/DKM\r\n",
      "  Preparing metadata (setup.py) ... \u001b[?25l-\b \bdone\r\n",
      "\u001b[?25hRequirement already satisfied: torch in /opt/conda/lib/python3.7/site-packages (from dkm==0.0.1) (1.9.1)\r\n",
      "Requirement already satisfied: einops in /opt/conda/lib/python3.7/site-packages (from dkm==0.0.1) (0.4.1)\r\n",
      "Requirement already satisfied: torchvision in /opt/conda/lib/python3.7/site-packages (from dkm==0.0.1) (0.10.1)\r\n",
      "Requirement already satisfied: opencv-python in /opt/conda/lib/python3.7/site-packages (from dkm==0.0.1) (4.5.4.60)\r\n",
      "Requirement already satisfied: numpy>=1.14.5 in /opt/conda/lib/python3.7/site-packages (from opencv-python->dkm==0.0.1) (1.20.3)\r\n",
      "Requirement already satisfied: typing-extensions in /opt/conda/lib/python3.7/site-packages (from torch->dkm==0.0.1) (4.1.1)\r\n",
      "Requirement already satisfied: pillow>=5.3.0 in /opt/conda/lib/python3.7/site-packages (from torchvision->dkm==0.0.1) (8.2.0)\r\n",
      "Installing collected packages: dkm\r\n",
      "  Running setup.py develop for dkm\r\n",
      "Successfully installed dkm-0.0.1\r\n",
      "\u001b[33mWARNING: Running pip as the 'root' user can result in broken permissions and conflicting behaviour with the system package manager. It is recommended to use a virtual environment instead: https://pip.pypa.io/warnings/venv\u001b[0m\r\n"
     ]
    }
   ],
   "source": [
    "!mkdir -p pretrained/checkpoints\n",
    "!cp /kaggle/input/imc2022-dependencies/pretrained/dkm.pth pretrained/checkpoints/dkm_base_v11.pth\n",
    "\n",
    "!pip install -f /kaggle/input/imc2022-dependencies/wheels --no-index einops\n",
    "!cp -r /kaggle/input/imc2022-dependencies/DKM/ /kaggle/working/DKM/\n",
    "!cd /kaggle/working/DKM/; pip install -f /kaggle/input/imc2022-dependencies/wheels -e ."
   ]
  },
  {
   "cell_type": "code",
   "execution_count": 10,
   "id": "9c928720",
   "metadata": {
    "execution": {
     "iopub.execute_input": "2022-05-01T08:58:22.970887Z",
     "iopub.status.busy": "2022-05-01T08:58:22.970111Z",
     "iopub.status.idle": "2022-05-01T08:58:24.262852Z",
     "shell.execute_reply": "2022-05-01T08:58:24.261933Z",
     "shell.execute_reply.started": "2022-05-01T08:55:34.885177Z"
    },
    "papermill": {
     "duration": 1.32914,
     "end_time": "2022-05-01T08:58:24.262993",
     "exception": false,
     "start_time": "2022-05-01T08:58:22.933853",
     "status": "completed"
    },
    "tags": []
   },
   "outputs": [],
   "source": [
    "if not torch.cuda.is_available():\n",
    "    print('You may want to enable the GPU switch?')\n",
    "    \n",
    "device = torch.device('cuda' if torch.cuda.is_available() else 'cpu')\n",
    "\n",
    "torch.hub.set_dir('/kaggle/working/pretrained/')\n",
    "\n",
    "from dkm import dkm_base\n",
    "model = dkm_base(pretrained=True, version=\"v11\").to(device).eval()"
   ]
  },
  {
   "cell_type": "code",
   "execution_count": 11,
   "id": "5c079c8b",
   "metadata": {
    "execution": {
     "iopub.execute_input": "2022-05-01T08:58:24.335305Z",
     "iopub.status.busy": "2022-05-01T08:58:24.334599Z",
     "iopub.status.idle": "2022-05-01T08:58:27.481399Z",
     "shell.execute_reply": "2022-05-01T08:58:27.480891Z",
     "shell.execute_reply.started": "2022-05-01T08:55:36.013574Z"
    },
    "papermill": {
     "duration": 3.187996,
     "end_time": "2022-05-01T08:58:27.481539",
     "exception": false,
     "start_time": "2022-05-01T08:58:24.293543",
     "status": "completed"
    },
    "tags": []
   },
   "outputs": [],
   "source": [
    "F_dict = {}\n",
    "for i, row in enumerate(test_samples):\n",
    "    sample_id, batch_id, image_1_id, image_2_id = row\n",
    "\n",
    "    img1 = cv2.imread(f'{src}/test_images/{batch_id}/{image_1_id}.png') \n",
    "    img2 = cv2.imread(f'{src}/test_images/{batch_id}/{image_2_id}.png')\n",
    "        \n",
    "    img1PIL = Image.fromarray(cv2.cvtColor(img1, cv2.COLOR_BGR2RGB))\n",
    "    img2PIL = Image.fromarray(cv2.cvtColor(img2, cv2.COLOR_BGR2RGB))\n",
    "    \n",
    "    dense_matches, dense_certainty = model.match(img1PIL, img2PIL)\n",
    "    dense_certainty = dense_certainty.sqrt()\n",
    "    sparse_matches, sparse_certainty = model.sample(dense_matches, dense_certainty, 2000)\n",
    "    \n",
    "    mkps1 = sparse_matches[:, :2]\n",
    "    mkps2 = sparse_matches[:, 2:]\n",
    "    \n",
    "    h, w, c = img1.shape\n",
    "    mkps1[:, 0] = ((mkps1[:, 0] + 1)/2) * w\n",
    "    mkps1[:, 1] = ((mkps1[:, 1] + 1)/2) * h\n",
    "\n",
    "    h, w, c = img2.shape\n",
    "    mkps2[:, 0] = ((mkps2[:, 0] + 1)/2) * w\n",
    "    mkps2[:, 1] = ((mkps2[:, 1] + 1)/2) * h\n",
    "\n",
    "    F, mask = cv2.findFundamentalMat(mkps1, mkps2, cv2.USAC_MAGSAC, 0.3, 0.9999, 25_000)\n",
    "\n",
    "    \n",
    "    good = F is not None and F.shape == (3,3)\n",
    "    \n",
    "    if good:\n",
    "        F_dict[sample_id] = F\n",
    "    else:\n",
    "        F_dict[sample_id] = np.zeros((3, 3))\n",
    "        continue\n",
    "\n",
    "    gc.collect()\n",
    "    \n",
    "#with open('dkm.csv', 'w') as f:\n",
    "    #f.write('sample_id,fundamental_matrix\\n')\n",
    "    #for sample_id, F in F_dict.items():\n",
    "        #f.write(f'{sample_id},{FlattenMatrix(F)}\\n')"
   ]
  },
  {
   "cell_type": "code",
   "execution_count": 12,
   "id": "5e9e7398",
   "metadata": {
    "execution": {
     "iopub.execute_input": "2022-05-01T08:58:27.550996Z",
     "iopub.status.busy": "2022-05-01T08:58:27.550390Z",
     "iopub.status.idle": "2022-05-01T08:58:27.553175Z",
     "shell.execute_reply": "2022-05-01T08:58:27.553579Z",
     "shell.execute_reply.started": "2022-05-01T08:55:38.129346Z"
    },
    "papermill": {
     "duration": 0.040865,
     "end_time": "2022-05-01T08:58:27.553709",
     "exception": false,
     "start_time": "2022-05-01T08:58:27.512844",
     "status": "completed"
    },
    "tags": []
   },
   "outputs": [
    {
     "data": {
      "text/plain": [
       "[array([[ 9.49121822e-08,  1.40773113e-06, -6.36928500e-04],\n",
       "        [ 1.54526073e-06, -4.68413765e-08,  7.95498862e-03],\n",
       "        [-1.25832065e-03, -8.59906771e-03,  4.13876288e-01]]),\n",
       " array([[ 1.48790440e-06, -1.32801337e-05,  8.04295628e-03],\n",
       "        [ 1.54911186e-05, -4.59025515e-06, -1.20560261e-02],\n",
       "        [-7.26164195e-03,  1.60895309e-02, -4.33677029e+00]]),\n",
       " array([[ 2.41794269e-05,  3.39733886e-05, -2.89382434e-02],\n",
       "        [-4.72904535e-05, -1.52090010e-06,  1.03649734e-02],\n",
       "        [ 2.99958542e-02, -2.75752115e-02,  1.37488443e+01]])]"
      ]
     },
     "execution_count": 12,
     "metadata": {},
     "output_type": "execute_result"
    }
   ],
   "source": [
    "dkm_matrix = list(F_dict.values()) #[ 8.97546963e-08,  1.36522772e-06, -6.21684625e-04]\n",
    "dkm_matrix"
   ]
  },
  {
   "cell_type": "markdown",
   "id": "67b93570",
   "metadata": {
    "papermill": {
     "duration": 0.030442,
     "end_time": "2022-05-01T08:58:27.614803",
     "exception": false,
     "start_time": "2022-05-01T08:58:27.584361",
     "status": "completed"
    },
    "tags": []
   },
   "source": [
    "# LOFTR Inference"
   ]
  },
  {
   "cell_type": "code",
   "execution_count": 13,
   "id": "18261879",
   "metadata": {
    "execution": {
     "iopub.execute_input": "2022-05-01T08:58:27.697004Z",
     "iopub.status.busy": "2022-05-01T08:58:27.696159Z",
     "iopub.status.idle": "2022-05-01T08:59:23.705732Z",
     "shell.execute_reply": "2022-05-01T08:59:23.706236Z",
     "shell.execute_reply.started": "2022-05-01T08:55:38.140044Z"
    },
    "papermill": {
     "duration": 56.056252,
     "end_time": "2022-05-01T08:59:23.706430",
     "exception": false,
     "start_time": "2022-05-01T08:58:27.650178",
     "status": "completed"
    },
    "tags": []
   },
   "outputs": [
    {
     "name": "stdout",
     "output_type": "stream",
     "text": [
      "Processing /kaggle/input/loftrkornia/LOFTR-kornia/kornia-0.6.4-py2.py3-none-any.whl\r\n",
      "Requirement already satisfied: packaging in /opt/conda/lib/python3.7/site-packages (from kornia==0.6.4) (21.3)\r\n",
      "Requirement already satisfied: torch>=1.8.1 in /opt/conda/lib/python3.7/site-packages (from kornia==0.6.4) (1.9.1)\r\n",
      "Requirement already satisfied: typing-extensions in /opt/conda/lib/python3.7/site-packages (from torch>=1.8.1->kornia==0.6.4) (4.1.1)\r\n",
      "Requirement already satisfied: pyparsing!=3.0.5,>=2.0.2 in /opt/conda/lib/python3.7/site-packages (from packaging->kornia==0.6.4) (3.0.6)\r\n",
      "Installing collected packages: kornia\r\n",
      "  Attempting uninstall: kornia\r\n",
      "    Found existing installation: kornia 0.5.8\r\n",
      "    Uninstalling kornia-0.5.8:\r\n",
      "      Successfully uninstalled kornia-0.5.8\r\n",
      "Successfully installed kornia-0.6.4\r\n",
      "\u001b[33mWARNING: Running pip as the 'root' user can result in broken permissions and conflicting behaviour with the system package manager. It is recommended to use a virtual environment instead: https://pip.pypa.io/warnings/venv\u001b[0m\r\n",
      "Processing /kaggle/input/loftrkornia/LOFTR-kornia/kornia_moons-0.1.9-py3-none-any.whl\r\n",
      "Requirement already satisfied: kornia in /opt/conda/lib/python3.7/site-packages (from kornia-moons==0.1.9) (0.6.4)\r\n",
      "Requirement already satisfied: opencv-python in /opt/conda/lib/python3.7/site-packages (from kornia-moons==0.1.9) (4.5.4.60)\r\n",
      "Requirement already satisfied: torch in /opt/conda/lib/python3.7/site-packages (from kornia-moons==0.1.9) (1.9.1)\r\n",
      "Requirement already satisfied: matplotlib in /opt/conda/lib/python3.7/site-packages (from kornia-moons==0.1.9) (3.5.1)\r\n",
      "Requirement already satisfied: packaging in /opt/conda/lib/python3.7/site-packages (from kornia->kornia-moons==0.1.9) (21.3)\r\n",
      "Requirement already satisfied: typing-extensions in /opt/conda/lib/python3.7/site-packages (from torch->kornia-moons==0.1.9) (4.1.1)\r\n",
      "Requirement already satisfied: fonttools>=4.22.0 in /opt/conda/lib/python3.7/site-packages (from matplotlib->kornia-moons==0.1.9) (4.28.4)\r\n",
      "Requirement already satisfied: numpy>=1.17 in /opt/conda/lib/python3.7/site-packages (from matplotlib->kornia-moons==0.1.9) (1.20.3)\r\n",
      "Requirement already satisfied: cycler>=0.10 in /opt/conda/lib/python3.7/site-packages (from matplotlib->kornia-moons==0.1.9) (0.11.0)\r\n",
      "Requirement already satisfied: kiwisolver>=1.0.1 in /opt/conda/lib/python3.7/site-packages (from matplotlib->kornia-moons==0.1.9) (1.3.2)\r\n",
      "Requirement already satisfied: pyparsing>=2.2.1 in /opt/conda/lib/python3.7/site-packages (from matplotlib->kornia-moons==0.1.9) (3.0.6)\r\n",
      "Requirement already satisfied: python-dateutil>=2.7 in /opt/conda/lib/python3.7/site-packages (from matplotlib->kornia-moons==0.1.9) (2.8.2)\r\n",
      "Requirement already satisfied: pillow>=6.2.0 in /opt/conda/lib/python3.7/site-packages (from matplotlib->kornia-moons==0.1.9) (8.2.0)\r\n",
      "Requirement already satisfied: six>=1.5 in /opt/conda/lib/python3.7/site-packages (from python-dateutil>=2.7->matplotlib->kornia-moons==0.1.9) (1.16.0)\r\n",
      "Installing collected packages: kornia-moons\r\n",
      "Successfully installed kornia-moons-0.1.9\r\n",
      "\u001b[33mWARNING: Running pip as the 'root' user can result in broken permissions and conflicting behaviour with the system package manager. It is recommended to use a virtual environment instead: https://pip.pypa.io/warnings/venv\u001b[0m\r\n"
     ]
    }
   ],
   "source": [
    "dry_run = False\n",
    "!pip install ../input/loftrkornia/LOFTR-kornia/kornia-0.6.4-py2.py3-none-any.whl\n",
    "!pip install ../input/loftrkornia/LOFTR-kornia/kornia_moons-0.1.9-py3-none-any.whl"
   ]
  },
  {
   "cell_type": "code",
   "execution_count": 14,
   "id": "c2ca568b",
   "metadata": {
    "execution": {
     "iopub.execute_input": "2022-05-01T08:59:23.790939Z",
     "iopub.status.busy": "2022-05-01T08:59:23.790049Z",
     "iopub.status.idle": "2022-05-01T08:59:24.006252Z",
     "shell.execute_reply": "2022-05-01T08:59:24.005710Z",
     "shell.execute_reply.started": "2022-05-01T08:56:32.768639Z"
    },
    "papermill": {
     "duration": 0.26083,
     "end_time": "2022-05-01T08:59:24.006443",
     "exception": false,
     "start_time": "2022-05-01T08:59:23.745613",
     "status": "completed"
    },
    "tags": []
   },
   "outputs": [],
   "source": [
    "import os\n",
    "import numpy as np\n",
    "import cv2\n",
    "import csv\n",
    "from glob import glob\n",
    "import torch\n",
    "import matplotlib.pyplot as plt\n",
    "import kornia\n",
    "from kornia_moons.feature import *\n",
    "import kornia as K\n",
    "import kornia.feature as KF\n",
    "import gc"
   ]
  },
  {
   "cell_type": "code",
   "execution_count": 15,
   "id": "ce8f203c",
   "metadata": {
    "execution": {
     "iopub.execute_input": "2022-05-01T08:59:24.084702Z",
     "iopub.status.busy": "2022-05-01T08:59:24.083929Z",
     "iopub.status.idle": "2022-05-01T08:59:25.204639Z",
     "shell.execute_reply": "2022-05-01T08:59:25.205091Z",
     "shell.execute_reply.started": "2022-05-01T08:56:32.970335Z"
    },
    "papermill": {
     "duration": 1.164194,
     "end_time": "2022-05-01T08:59:25.205271",
     "exception": false,
     "start_time": "2022-05-01T08:59:24.041077",
     "status": "completed"
    },
    "tags": []
   },
   "outputs": [],
   "source": [
    "device = torch.device('cuda')\n",
    "matcher = KF.LoFTR(pretrained=None)\n",
    "matcher.load_state_dict(torch.load(\"../input/loftrkornia/LOFTR-kornia/loftr_outdoor.ckpt/loftr_outdoor.ckpt\")['state_dict'])\n",
    "matcher = matcher.to(device).eval()"
   ]
  },
  {
   "cell_type": "code",
   "execution_count": 16,
   "id": "45f773d7",
   "metadata": {
    "execution": {
     "iopub.execute_input": "2022-05-01T08:59:25.280573Z",
     "iopub.status.busy": "2022-05-01T08:59:25.279868Z",
     "iopub.status.idle": "2022-05-01T08:59:25.283246Z",
     "shell.execute_reply": "2022-05-01T08:59:25.282780Z",
     "shell.execute_reply.started": "2022-05-01T08:56:33.339903Z"
    },
    "papermill": {
     "duration": 0.043692,
     "end_time": "2022-05-01T08:59:25.283364",
     "exception": false,
     "start_time": "2022-05-01T08:59:25.239672",
     "status": "completed"
    },
    "tags": []
   },
   "outputs": [],
   "source": [
    "def load_torch_image(fname, device):\n",
    "    img = cv2.imread(fname)\n",
    "    scale = 840 / max(img.shape[0], img.shape[1]) \n",
    "    w = int(img.shape[1] * scale)\n",
    "    h = int(img.shape[0] * scale)\n",
    "    img = cv2.resize(img, (w, h))\n",
    "    img = K.image_to_tensor(img, False).float() /255.\n",
    "    img = K.color.bgr_to_rgb(img)\n",
    "    return img.to(device)"
   ]
  },
  {
   "cell_type": "code",
   "execution_count": 17,
   "id": "a7208a1d",
   "metadata": {
    "execution": {
     "iopub.execute_input": "2022-05-01T08:59:25.367461Z",
     "iopub.status.busy": "2022-05-01T08:59:25.365929Z",
     "iopub.status.idle": "2022-05-01T08:59:31.758678Z",
     "shell.execute_reply": "2022-05-01T08:59:31.759968Z",
     "shell.execute_reply.started": "2022-05-01T08:56:33.348407Z"
    },
    "papermill": {
     "duration": 6.442825,
     "end_time": "2022-05-01T08:59:31.760224",
     "exception": false,
     "start_time": "2022-05-01T08:59:25.317399",
     "status": "completed"
    },
    "tags": []
   },
   "outputs": [
    {
     "name": "stdout",
     "output_type": "stream",
     "text": [
      "torch.Size([1, 3, 840, 472])\n"
     ]
    },
    {
     "name": "stderr",
     "output_type": "stream",
     "text": [
      "/opt/conda/lib/python3.7/site-packages/torch/_tensor.py:575: UserWarning: floor_divide is deprecated, and will be removed in a future version of pytorch. It currently rounds toward 0 (like the 'trunc' function NOT 'floor'). This results in incorrect rounding for negative values.\n",
      "To keep the current behavior, use torch.div(a, b, rounding_mode='trunc'), or for actual floor division, use torch.div(a, b, rounding_mode='floor'). (Triggered internally at  /usr/local/src/pytorch/aten/src/ATen/native/BinaryOps.cpp:461.)\n",
      "  return torch.floor_divide(self, other)\n"
     ]
    },
    {
     "name": "stdout",
     "output_type": "stream",
     "text": [
      "Running time:  1.0458638668060303  s\n",
      "torch.Size([1, 3, 840, 472])\n",
      "Running time:  0.8402094841003418  s\n",
      "torch.Size([1, 3, 840, 472])\n",
      "Running time:  1.3170323371887207  s\n"
     ]
    }
   ],
   "source": [
    "F_dict = {}\n",
    "import time\n",
    "for i, row in enumerate(test_samples):\n",
    "    sample_id, batch_id, image_1_id, image_2_id = row\n",
    "    # Load the images.\n",
    "    st = time.time()\n",
    "    image_1 = load_torch_image(f'{src}/test_images/{batch_id}/{image_1_id}.png', device)\n",
    "    image_2 = load_torch_image(f'{src}/test_images/{batch_id}/{image_2_id}.png', device)\n",
    "    print(image_1.shape)\n",
    "    input_dict = {\"image0\": K.color.rgb_to_grayscale(image_1), \n",
    "              \"image1\": K.color.rgb_to_grayscale(image_2)}\n",
    "\n",
    "    with torch.no_grad():\n",
    "        correspondences = matcher(input_dict)\n",
    "        \n",
    "    mkpts0 = correspondences['keypoints0'].cpu().numpy()\n",
    "    mkpts1 = correspondences['keypoints1'].cpu().numpy()\n",
    "    \n",
    "    if len(mkpts0) > 7:\n",
    "        F, inliers = cv2.findFundamentalMat(mkpts0, mkpts1, cv2.USAC_MAGSAC, 0.1800, 0.9999, 250000)\n",
    "        inliers = inliers > 0\n",
    "        assert F.shape == (3, 3), 'Malformed F?'\n",
    "        F_dict[sample_id] = F\n",
    "    else:\n",
    "        F_dict[sample_id] = np.zeros((3, 3))\n",
    "        continue\n",
    "    gc.collect()\n",
    "    nd = time.time()    \n",
    "    if (i < 3):\n",
    "        print(\"Running time: \", nd - st, \" s\")\n",
    "        draw_LAF_matches(\n",
    "        KF.laf_from_center_scale_ori(torch.from_numpy(mkpts0).view(1,-1, 2),\n",
    "                                    torch.ones(mkpts0.shape[0]).view(1,-1, 1, 1),\n",
    "                                    torch.ones(mkpts0.shape[0]).view(1,-1, 1)),\n",
    "\n",
    "        KF.laf_from_center_scale_ori(torch.from_numpy(mkpts1).view(1,-1, 2),\n",
    "                                    torch.ones(mkpts1.shape[0]).view(1,-1, 1, 1),\n",
    "                                    torch.ones(mkpts1.shape[0]).view(1,-1, 1)),\n",
    "        torch.arange(mkpts0.shape[0]).view(-1,1).repeat(1,2),\n",
    "        K.tensor_to_image(image_1),\n",
    "        K.tensor_to_image(image_2),\n",
    "        inliers,\n",
    "        draw_dict={'inlier_color': (0.2, 1, 0.2),\n",
    "                   'tentative_color': None, \n",
    "                   'feature_color': (0.2, 0.5, 1), 'vertical': False})\n",
    "    \n",
    "#with open('submission.csv', 'w') as f:\n",
    "    #f.write('sample_id,fundamental_matrix\\n')\n",
    "    #for sample_id, F in F_dict.items():\n",
    "        #f.write(f'{sample_id},{FlattenMatrix(F)}\\n')"
   ]
  },
  {
   "cell_type": "code",
   "execution_count": 18,
   "id": "28a60a25",
   "metadata": {
    "execution": {
     "iopub.execute_input": "2022-05-01T08:59:31.897933Z",
     "iopub.status.busy": "2022-05-01T08:59:31.897145Z",
     "iopub.status.idle": "2022-05-01T08:59:31.903013Z",
     "shell.execute_reply": "2022-05-01T08:59:31.903639Z",
     "shell.execute_reply.started": "2022-05-01T08:56:39.499848Z"
    },
    "papermill": {
     "duration": 0.075701,
     "end_time": "2022-05-01T08:59:31.903825",
     "exception": false,
     "start_time": "2022-05-01T08:59:31.828124",
     "status": "completed"
    },
    "tags": []
   },
   "outputs": [
    {
     "data": {
      "text/plain": [
       "[array([[ 1.33081005e-07,  1.89142917e-06, -8.26164486e-04],\n",
       "        [ 1.21548603e-06, -1.69887159e-07,  8.47602404e-03],\n",
       "        [-1.15330093e-03, -9.03091996e-03,  3.99727161e-01]]),\n",
       " array([[-1.41077929e-06,  1.25641038e-05, -7.69075050e-03],\n",
       "        [-1.47192483e-05,  4.66520159e-06,  1.17920640e-02],\n",
       "        [ 7.12669880e-03, -1.59184362e-02,  4.23460368e+00]]),\n",
       " array([[-2.10167616e-06, -2.33597415e-05,  1.33922129e-02],\n",
       "        [ 1.56584782e-06, -3.03106291e-06,  8.26859973e-03],\n",
       "        [-1.25428306e-03, -3.63535567e-03, -1.20946245e+00]])]"
      ]
     },
     "execution_count": 18,
     "metadata": {},
     "output_type": "execute_result"
    }
   ],
   "source": [
    "loftr_matrix = list(F_dict.values()) #[ 1.33081005e-07,  1.89142917e-06, -8.26164486e-04]\n",
    "loftr_matrix"
   ]
  },
  {
   "cell_type": "markdown",
   "id": "c7d4c12c",
   "metadata": {
    "papermill": {
     "duration": 0.059875,
     "end_time": "2022-05-01T08:59:32.023743",
     "exception": false,
     "start_time": "2022-05-01T08:59:31.963868",
     "status": "completed"
    },
    "tags": []
   },
   "source": [
    "# Ensemble "
   ]
  },
  {
   "cell_type": "code",
   "execution_count": 19,
   "id": "5a3e6c5a",
   "metadata": {
    "execution": {
     "iopub.execute_input": "2022-05-01T08:59:32.143879Z",
     "iopub.status.busy": "2022-05-01T08:59:32.142241Z",
     "iopub.status.idle": "2022-05-01T08:59:32.144475Z",
     "shell.execute_reply": "2022-05-01T08:59:32.144900Z",
     "shell.execute_reply.started": "2022-05-01T08:56:39.509568Z"
    },
    "papermill": {
     "duration": 0.06135,
     "end_time": "2022-05-01T08:59:32.145034",
     "exception": false,
     "start_time": "2022-05-01T08:59:32.083684",
     "status": "completed"
    },
    "tags": []
   },
   "outputs": [],
   "source": [
    "sg = np.vstack(sg_matrix)\n",
    "dkm = np.vstack(dkm_matrix)\n",
    "loftr = np.vstack(loftr_matrix)"
   ]
  },
  {
   "cell_type": "code",
   "execution_count": 20,
   "id": "794d02c2",
   "metadata": {
    "execution": {
     "iopub.execute_input": "2022-05-01T08:59:32.224220Z",
     "iopub.status.busy": "2022-05-01T08:59:32.222605Z",
     "iopub.status.idle": "2022-05-01T08:59:32.224800Z",
     "shell.execute_reply": "2022-05-01T08:59:32.225220Z",
     "shell.execute_reply.started": "2022-05-01T08:56:39.518797Z"
    },
    "papermill": {
     "duration": 0.043139,
     "end_time": "2022-05-01T08:59:32.225360",
     "exception": false,
     "start_time": "2022-05-01T08:59:32.182221",
     "status": "completed"
    },
    "tags": []
   },
   "outputs": [],
   "source": [
    "#sg = sg * 0.3\n",
    "#dkm = dkm * 0.2\n",
    "#loftr = loftr * 0.5"
   ]
  },
  {
   "cell_type": "code",
   "execution_count": 21,
   "id": "1cbb04ef",
   "metadata": {
    "execution": {
     "iopub.execute_input": "2022-05-01T08:59:32.302987Z",
     "iopub.status.busy": "2022-05-01T08:59:32.302368Z",
     "iopub.status.idle": "2022-05-01T08:59:32.304702Z",
     "shell.execute_reply": "2022-05-01T08:59:32.305069Z",
     "shell.execute_reply.started": "2022-05-01T08:56:39.527457Z"
    },
    "papermill": {
     "duration": 0.043447,
     "end_time": "2022-05-01T08:59:32.305231",
     "exception": false,
     "start_time": "2022-05-01T08:59:32.261784",
     "status": "completed"
    },
    "tags": []
   },
   "outputs": [],
   "source": [
    "av = np.add(sg, dkm, loftr)"
   ]
  },
  {
   "cell_type": "code",
   "execution_count": 22,
   "id": "1a64aac1",
   "metadata": {
    "execution": {
     "iopub.execute_input": "2022-05-01T08:59:32.383940Z",
     "iopub.status.busy": "2022-05-01T08:59:32.382391Z",
     "iopub.status.idle": "2022-05-01T08:59:32.384547Z",
     "shell.execute_reply": "2022-05-01T08:59:32.384962Z",
     "shell.execute_reply.started": "2022-05-01T08:56:39.536058Z"
    },
    "papermill": {
     "duration": 0.043513,
     "end_time": "2022-05-01T08:59:32.385091",
     "exception": false,
     "start_time": "2022-05-01T08:59:32.341578",
     "status": "completed"
    },
    "tags": []
   },
   "outputs": [],
   "source": [
    "av = av / 3"
   ]
  },
  {
   "cell_type": "code",
   "execution_count": 23,
   "id": "6eaa02da",
   "metadata": {
    "execution": {
     "iopub.execute_input": "2022-05-01T08:59:32.465108Z",
     "iopub.status.busy": "2022-05-01T08:59:32.463454Z",
     "iopub.status.idle": "2022-05-01T08:59:32.465725Z",
     "shell.execute_reply": "2022-05-01T08:59:32.466118Z",
     "shell.execute_reply.started": "2022-05-01T08:56:39.544144Z"
    },
    "papermill": {
     "duration": 0.044373,
     "end_time": "2022-05-01T08:59:32.466279",
     "exception": false,
     "start_time": "2022-05-01T08:59:32.421906",
     "status": "completed"
    },
    "tags": []
   },
   "outputs": [],
   "source": [
    "av = np.split(av,3)"
   ]
  },
  {
   "cell_type": "code",
   "execution_count": 24,
   "id": "1c3ed317",
   "metadata": {
    "execution": {
     "iopub.execute_input": "2022-05-01T08:59:32.546436Z",
     "iopub.status.busy": "2022-05-01T08:59:32.545549Z",
     "iopub.status.idle": "2022-05-01T08:59:32.547456Z",
     "shell.execute_reply": "2022-05-01T08:59:32.547868Z",
     "shell.execute_reply.started": "2022-05-01T08:56:39.553397Z"
    },
    "papermill": {
     "duration": 0.044677,
     "end_time": "2022-05-01T08:59:32.548008",
     "exception": false,
     "start_time": "2022-05-01T08:59:32.503331",
     "status": "completed"
    },
    "tags": []
   },
   "outputs": [],
   "source": [
    "for k,v in zip(F_dict,av):\n",
    "    F_dict[k] = v"
   ]
  },
  {
   "cell_type": "code",
   "execution_count": 25,
   "id": "b383c158",
   "metadata": {
    "execution": {
     "iopub.execute_input": "2022-05-01T08:59:32.628635Z",
     "iopub.status.busy": "2022-05-01T08:59:32.627975Z",
     "iopub.status.idle": "2022-05-01T08:59:32.630777Z",
     "shell.execute_reply": "2022-05-01T08:59:32.631198Z",
     "shell.execute_reply.started": "2022-05-01T08:56:39.561120Z"
    },
    "papermill": {
     "duration": 0.04616,
     "end_time": "2022-05-01T08:59:32.631337",
     "exception": false,
     "start_time": "2022-05-01T08:59:32.585177",
     "status": "completed"
    },
    "tags": []
   },
   "outputs": [
    {
     "data": {
      "text/plain": [
       "{'googleurban;1cf87530;a5a9975574c94ff9a285f58c39b53d2c-0143f47ee9e54243a1b8454f3e91621a': array([[ 5.99399675e-08,  1.00022997e-06, -4.65741943e-04],\n",
       "        [ 1.23291228e-06, -3.15919718e-09,  5.70051626e-03],\n",
       "        [-9.31670590e-04, -6.20297825e-03,  3.06159730e-01]]),\n",
       " 'googleurban;6ceaefff;39563e58b2b7411da3f06427c9ee4239-0303b05ca0cb46959eac430e4b2472ca': array([[-4.23765006e-08,  4.20359200e-07, -2.05799696e-04],\n",
       "        [-3.81001576e-07, -1.08519836e-07,  8.56180944e-05],\n",
       "        [ 6.93687086e-05,  4.03432248e-05, -2.05454774e-02]]),\n",
       " 'googleurban;d91db836;81dd07fb7b9a4e01996cee637f91ca1a-0006b1337a0347f49b4e651c035dfa0e': array([[ 7.75323919e-06,  6.67990861e-06, -6.52133929e-03],\n",
       "        [-1.20761646e-05,  8.34546943e-06,  1.35250194e-03],\n",
       "        [ 7.87415266e-03, -1.52984742e-02,  6.55385216e+00]])}"
      ]
     },
     "execution_count": 25,
     "metadata": {},
     "output_type": "execute_result"
    }
   ],
   "source": [
    "F_dict"
   ]
  },
  {
   "cell_type": "code",
   "execution_count": 26,
   "id": "cb5129ee",
   "metadata": {
    "execution": {
     "iopub.execute_input": "2022-05-01T08:59:32.714881Z",
     "iopub.status.busy": "2022-05-01T08:59:32.713702Z",
     "iopub.status.idle": "2022-05-01T08:59:32.716139Z",
     "shell.execute_reply": "2022-05-01T08:59:32.716647Z",
     "shell.execute_reply.started": "2022-05-01T08:56:39.573887Z"
    },
    "papermill": {
     "duration": 0.04825,
     "end_time": "2022-05-01T08:59:32.716790",
     "exception": false,
     "start_time": "2022-05-01T08:59:32.668540",
     "status": "completed"
    },
    "tags": []
   },
   "outputs": [],
   "source": [
    "with open('submission.csv', 'w') as f:\n",
    "    f.write('sample_id,fundamental_matrix\\n')\n",
    "    for sample_id, F in F_dict.items():\n",
    "        f.write(f'{sample_id},{FlattenMatrix(F)}\\n')"
   ]
  }
 ],
 "metadata": {
  "kernelspec": {
   "display_name": "Python 3",
   "language": "python",
   "name": "python3"
  },
  "language_info": {
   "codemirror_mode": {
    "name": "ipython",
    "version": 3
   },
   "file_extension": ".py",
   "mimetype": "text/x-python",
   "name": "python",
   "nbconvert_exporter": "python",
   "pygments_lexer": "ipython3",
   "version": "3.7.12"
  },
  "papermill": {
   "default_parameters": {},
   "duration": 137.292079,
   "end_time": "2022-05-01T08:59:35.438071",
   "environment_variables": {},
   "exception": null,
   "input_path": "__notebook__.ipynb",
   "output_path": "__notebook__.ipynb",
   "parameters": {},
   "start_time": "2022-05-01T08:57:18.145992",
   "version": "2.3.3"
  }
 },
 "nbformat": 4,
 "nbformat_minor": 5
}
